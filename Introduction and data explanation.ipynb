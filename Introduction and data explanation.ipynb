{
 "cells": [
  {
   "cell_type": "markdown",
   "metadata": {},
   "source": [
    "# <center><b><font color='grey' >Introducton to Project \"Battle of Neighborhoods in Sofia\"</center></b></font>"
   ]
  },
  {
   "cell_type": "markdown",
   "metadata": {},
   "source": [
    "## <font color=grey>Business problem</font>"
   ]
  },
  {
   "cell_type": "markdown",
   "metadata": {},
   "source": [
    "\n",
    "These days the topic of office space searching is up-to-date in Sofia/ Bulgaria.\n",
    "\n",
    "Last years companies with specific requirements or looking for a larger office space had to choose a property as early as the construction stage, as their options were limited. At the moment, however, offering them allows them to think more about market opportunities and to make their choices. This undoubtedly increases competition in the sector and leads to improved product quality.\n",
    "The tenant profile is also changing. If up to now the inquiries were mainly from large companies for an area of about 1500-5000 square meters, then there is already interest from more tenants, but for smaller offices. The reason for this is the entry of new companies with a growth prospect in Bulgaria, as well as the successful development of start-ups and their transition into a growth phase. They are looking for a first office with a smaller area that can meet all their requirements, so they choose Class A and B buildings.\n",
    "The office buildings put into operation in 2019 had a total area of 177 860 square meters, with the market growth being the highest since 2010.\n",
    "Choosing an office space is a pretty important step, whether you are renting an office / office building or buying it. The location of the office and its other features can greatly affect the profitability of your business. The location of office space is one of the most important criteria for success in business. Offices in the city center or near successful communication hubs / communication sites are much more expensive than offices in other types of traditional locations. Therefore, it is advisable to choose a company representative in the center only when the company's activities are related to constant visits of clients to the office.\n",
    "\n",
    "One of the biggest competitors for office space in Sofia is the IT company. The IT sector in Sofia leads to great competition between each other. There are many factors that influence the competition for personnel between software companies in the market. One of the competitive advantages that companies rely on is a good office. It is the work environment that is often the key to retaining good professionals. And it starts with good and easy access.\n",
    "IT companies look for amenities around, a good transportation infrastructure and of course, locations with the highest availability of Class A office buildings.\n",
    "The question is how to choose competitive office with good infrastructure when you open an office in Sofia?\n",
    "\n",
    "<b>In this project, we will explore the neighborhoods of Sofia for one purpose - to compare them through the lens of the benefits of renting an office in their area.</b>"
   ]
  },
  {
   "cell_type": "markdown",
   "metadata": {},
   "source": [
    "\n"
   ]
  },
  {
   "cell_type": "markdown",
   "metadata": {},
   "source": [
    "If we choose wisely where to rent an office, we'll affect to costs,  hiring good professionals, making new clients. Most of IT professionals are demanding and one of the biggest priorities for them is their workplace."
   ]
  },
  {
   "cell_type": "markdown",
   "metadata": {},
   "source": [
    "## <font color=grey>What will use?</font>"
   ]
  },
  {
   "cell_type": "markdown",
   "metadata": {},
   "source": [
    "First we will get some location data about neighborhoods in Sofia. We'll do this from: http://bg.guide-bulgaria.com/SW/sofia-city/stolichna/sofia?t=locations . The data is simple - neighborhood name, latitude, longitude."
   ]
  },
  {
   "cell_type": "markdown",
   "metadata": {},
   "source": [
    "After that we wil get some data about public transport from http://drone.sumc.bg/api. The data is about underground stations."
   ]
  },
  {
   "cell_type": "markdown",
   "metadata": {},
   "source": [
    "Of course we will use Foursquare to examine different venues in the neighborhoods. And using Folium will visualize the result."
   ]
  },
  {
   "cell_type": "markdown",
   "metadata": {},
   "source": []
  },
  {
   "cell_type": "markdown",
   "metadata": {},
   "source": [
    "<font"
   ]
  }
 ],
 "metadata": {
  "kernelspec": {
   "display_name": "Python",
   "language": "python",
   "name": "conda-env-python-py"
  },
  "language_info": {
   "codemirror_mode": {
    "name": "ipython",
    "version": 3
   },
   "file_extension": ".py",
   "mimetype": "text/x-python",
   "name": "python",
   "nbconvert_exporter": "python",
   "pygments_lexer": "ipython3",
   "version": "3.6.7"
  }
 },
 "nbformat": 4,
 "nbformat_minor": 4
}
